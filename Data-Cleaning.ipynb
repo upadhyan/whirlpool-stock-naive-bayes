{
 "cells": [
  {
   "cell_type": "code",
   "execution_count": 1,
   "metadata": {},
   "outputs": [],
   "source": [
    "import math\n",
    "import pandas as pd\n",
    "import numpy as np\n",
    "import pandas_datareader as web\n",
    "import matplotlib.pyplot as plt\n",
    "import math\n",
    "from datetime import date\n",
    "from datetime import datetime"
   ]
  },
  {
   "cell_type": "code",
   "execution_count": 6,
   "metadata": {},
   "outputs": [],
   "source": [
    "# Get The price data for all of our stocks\n",
    "start_date = '2010-01-04'\n",
    "end_date = '2010-12-18'\n",
    "## Whirlpool Stock. Self Explanatory\n",
    "whr_stock = web.DataReader('WHR', data_source = 'yahoo', start = start_date, end = end_date)\n",
    "# Ferro Corporation is a supplier of coatings for whirlpool\n",
    "foe_stock = web.DataReader('FOE', data_source = 'yahoo', start = start_date, end = end_date)\n",
    "# Worthington Industries is a steel supplier for whirlpool\n",
    "wor_stock = web.DataReader('WOR', data_source = 'yahoo', start = start_date, end = end_date)\n",
    "# Exxon Mobile Chemical Corporation supplies chemicals to whirlpool\n",
    "xom_stock = web.DataReader('XOM', data_source = 'yahoo', start = start_date, end = end_date)\n",
    "# Lowes is where whirlpool sells their products\n",
    "low_stock = web.DataReader('LOW', data_source = 'yahoo', start = start_date, end = end_date)\n",
    "#HD is also a place where products are sold\n",
    "hd_stock = web.DataReader('HD', data_source = 'yahoo', start = start_date, end = end_date)\n",
    "#BASFY is a chemical supplier\n",
    "basfy_stock = web.DataReader('BASFY', data_source = 'yahoo', start = start_date, end = end_date)\n",
    "mhk_stock = web.DataReader('MHK', data_source = 'yahoo', start = start_date, end = end_date)\n",
    "\n",
    "# These two are people who ship for Whirlpool\n",
    "pag_stock = web.DataReader('PAG', data_source = 'yahoo', start = start_date, end = end_date)\n",
    "jbht_stock = web.DataReader('JBHT', data_source = 'yahoo', start = start_date, end = end_date)"
   ]
  },
  {
   "cell_type": "code",
   "execution_count": 7,
   "metadata": {},
   "outputs": [],
   "source": [
    "# Find the start and end of continous time periods in data\n",
    "### We treat holidays as weekends, so not all weeks are the same time length for now\n",
    "weeks = []\n",
    "index = 0\n",
    "labels = list(whr_stock.index)\n",
    "while index < (whr_stock.shape[0]) - 1:\n",
    "    start_date = index\n",
    "    not_found = True\n",
    "    end_date = start_date\n",
    "    while not_found:\n",
    "        old_index = index\n",
    "        if index != (whr_stock.shape[0] - 1):\n",
    "            index = index + 1\n",
    "            time_dif = (labels[index] - labels[old_index]).days\n",
    "            if time_dif > 1:\n",
    "                not_found = False\n",
    "                end_date = old_index\n",
    "        else: \n",
    "            end_date = index\n",
    "            not_found = False\n",
    "    weeks.append([start_date, end_date])"
   ]
  },
  {
   "cell_type": "code",
   "execution_count": 8,
   "metadata": {},
   "outputs": [],
   "source": [
    "#Now we need to process the stock prices we have. We are looking at how price changes from 1 period affect\n",
    "# Whirlpool's stock in the next period\n",
    "## The first step is to define a function to help create 3 states of each stock: fall, steady, and raise\n",
    "# Lets first define a function to consolidate our scores. \n",
    "# if the % change in a week is between +-1%, we assign it a 1. If it is <-1%, we assign a 0. If it is >1%, we assign it 2\n",
    "def standardize(percent):\n",
    "    if (percent > -.01) and (percent < .01):\n",
    "        return 1\n",
    "    elif percent > 0:\n",
    "        return 2\n",
    "    else:\n",
    "        return 0"
   ]
  },
  {
   "cell_type": "code",
   "execution_count": 66,
   "metadata": {},
   "outputs": [
    {
     "data": {
      "text/plain": [
       "0"
      ]
     },
     "execution_count": 66,
     "metadata": {},
     "output_type": "execute_result"
    }
   ],
   "source": [
    "# Now we calculate percentage change over time periods\n",
    "## Now we create our list of price changes\n",
    "### We will create the WHR one in a seperate vector from the rest since we\n",
    "### are going to \"shift\" the whirlpool one since we are trying to predict future price\n",
    "data_points_percent = []\n",
    "data_points_state = []\n",
    "time_labels = []\n",
    "whr_future_percent = []\n",
    "whr_future_state = []\n",
    "for time in weeks:\n",
    "    start_val_whr = whr_stock.iloc[time[0]]\n",
    "    end_val_whr = whr_stock.iloc[time[1]]\n",
    "    difference_whr = (start_val_whr.get('Open') - end_val_whr.get('Close') ) / start_val_whr.get('Open')\n",
    "    #MHK\n",
    "    start_val_mhk = mhk_stock.iloc[time[0]]\n",
    "    end_val_mhk = mhk_stock.iloc[time[1]]\n",
    "    difference_mhk = (start_val_mhk.get('Open') - end_val_mhk.get('Close') ) / start_val_mhk.get('Open')\n",
    "    #PAG\n",
    "    start_val_pag = pag_stock.iloc[time[0]]\n",
    "    end_val_pag = pag_stock.iloc[time[1]]\n",
    "    difference_pag = (start_val_pag.get('Open') - end_val_pag.get('Close') ) / start_val_pag.get('Open')\n",
    "    #HD\n",
    "    start_val_hd = hd_stock.iloc[time[0]]\n",
    "    end_val_hd = hd_stock.iloc[time[1]]\n",
    "    difference_hd = (start_val_hd.get('Open') - end_val_hd.get('Close') ) / start_val_hd.get('Open')\n",
    "    #JBHT\n",
    "    start_val_jbht = jbht_stock.iloc[time[0]]\n",
    "    end_val_jbht = jbht_stock.iloc[time[1]]\n",
    "    difference_jbht = (start_val_jbht.get('Open') - end_val_jbht.get('Close') )/ start_val_jbht.get('Open')\n",
    "    #LOW\n",
    "    start_val_low = low_stock.iloc[time[0]]\n",
    "    end_val_low = low_stock.iloc[time[1]]\n",
    "    difference_low = (start_val_low.get('Open') - end_val_low.get('Close'))  / start_val_low.get('Open')\n",
    "    #FOE\n",
    "    start_val_foe = foe_stock.iloc[time[0]]\n",
    "    end_val_foe = foe_stock.iloc[time[1]]\n",
    "    difference_foe = (start_val_foe.get('Open') - end_val_foe.get('Close')) / start_val_foe.get('Open')\n",
    "    #WOR\n",
    "    start_val_wor = wor_stock.iloc[time[0]]\n",
    "    end_val_wor = wor_stock.iloc[time[1]]\n",
    "    difference_wor = (start_val_wor.get('Open') - end_val_wor.get('Close')) / start_val_wor.get('Open')\n",
    "    #XOM\n",
    "    start_val_xom = xom_stock.iloc[time[0]]\n",
    "    end_val_xom = xom_stock.iloc[time[1]]\n",
    "    difference_xom = (start_val_xom.get('Open') - end_val_xom.get('Close')) / start_val_xom.get('Open')\n",
    "    #BASFY\n",
    "    start_val_basfy = basfy_stock.iloc[time[0]]\n",
    "    end_val_basfy = basfy_stock.iloc[time[1]]\n",
    "    difference_basfy = (start_val_basfy.get('Open') - end_val_basfy.get('Close')) / start_val_basfy.get('Open')\n",
    "    #combine everything\n",
    "    percent_point = [difference_whr, difference_mhk, difference_pag,\n",
    "                     difference_hd, difference_jbht, difference_low,\n",
    "                     difference_foe, difference_wor, difference_xom,\n",
    "                    difference_basfy]\n",
    "    state_point = list(map(standardize, percent_point))\n",
    "    data_points_percent.append(percent_point)\n",
    "    data_points_state.append(state_point)\n",
    "    whr_future_percent.append(difference_whr)\n",
    "    whr_future_state.append(standardize(difference_whr))\n",
    "    #Time Labels\n",
    "    time_labels.append(end_val_whr.name)\\\n",
    "## We adjust the data a bit so that the future value of whirlpool is offset backwards by 1 week\n",
    "data_points_percent.pop()\n",
    "data_points_state.pop()\n",
    "time_labels.pop()\n",
    "whr_future_percent.pop(0)\n",
    "whr_future_state.pop(0)"
   ]
  },
  {
   "cell_type": "code",
   "execution_count": 70,
   "metadata": {},
   "outputs": [
    {
     "name": "stdout",
     "output_type": "stream",
     "text": [
      "               WHR-C       MHK       PAG        HD      JBHT       LOW  \\\n",
      "2010-01-08 -0.039076 -0.028382 -0.098554  0.005832 -0.045455 -0.003403   \n",
      "2010-01-15  0.029710  0.062513  0.028708  0.014828  0.000588  0.019915   \n",
      "2010-01-22  0.054024  0.037631  0.079454  0.026001  0.054561  0.032943   \n",
      "2010-01-29  0.052433  0.094666  0.062041 -0.002147  0.052534  0.036064   \n",
      "2010-02-05 -0.006479 -0.064192 -0.043909  0.001071  0.011028  0.005985   \n",
      "\n",
      "                 FOE       WOR       XOM     BASFY     WHR-F  \n",
      "2010-01-08 -0.068966 -0.299625 -0.011641  0.007039  0.029710  \n",
      "2010-01-15  0.042286  0.076180  0.011867  0.058888  0.054024  \n",
      "2010-01-22  0.052821  0.071385  0.038406  0.061667  0.052433  \n",
      "2010-01-29  0.020202  0.051148  0.031856  0.004386 -0.006479  \n",
      "2010-02-05  0.074264  0.008230  0.014748  0.052926 -0.065363  \n",
      "            WHR-C  MHK  PAG  HD  JBHT  LOW  FOE  WOR  XOM  BASFY  WHR-F\n",
      "2010-01-08      0    0    0   1     0    1    0    0    0      1      2\n",
      "2010-01-15      2    2    2   2     1    2    2    2    2      2      2\n",
      "2010-01-22      2    2    2   2     2    2    2    2    2      2      2\n",
      "2010-01-29      2    2    2   1     2    2    2    2    2      1      1\n",
      "2010-02-05      1    0    0   1     2    1    2    1    2      2      0\n"
     ]
    }
   ],
   "source": [
    "# Add turn into data frame and add labels\n",
    "column_labels = ['WHR-C', 'MHK', 'PAG', 'HD', 'JBHT', 'LOW', 'FOE', 'WOR', 'XOM', 'BASFY', 'WHR-F']\n",
    "\n",
    "data_percent = pd.DataFrame(data_points_percent, index = time_labels)\n",
    "data_state = pd.DataFrame(data_points_state, index = time_labels)\n",
    "temp = pd.Series(whr_future_percent)\n",
    "data_percent = data_percent.assign(e = temp.values)\n",
    "temp = pd.Series(whr_future_state)\n",
    "data_state = data_state.assign(e = temp.values)\n",
    "data_percent.columns = column_labels\n",
    "data_state.columns = column_labels\n",
    "print(data_percent.head())\n",
    "print(data_state.head())"
   ]
  },
  {
   "cell_type": "code",
   "execution_count": 71,
   "metadata": {},
   "outputs": [],
   "source": [
    "data_percent.to_csv('percent_changes.csv', encoding='utf-8', index=True)\n",
    "data_state.to_csv('state_changes.csv', encoding='utf-8', index=True)\n"
   ]
  }
 ],
 "metadata": {
  "kernelspec": {
   "display_name": "Python 3",
   "language": "python",
   "name": "python3"
  },
  "language_info": {
   "codemirror_mode": {
    "name": "ipython",
    "version": 3
   },
   "file_extension": ".py",
   "mimetype": "text/x-python",
   "name": "python",
   "nbconvert_exporter": "python",
   "pygments_lexer": "ipython3",
   "version": "3.7.3"
  }
 },
 "nbformat": 4,
 "nbformat_minor": 2
}
